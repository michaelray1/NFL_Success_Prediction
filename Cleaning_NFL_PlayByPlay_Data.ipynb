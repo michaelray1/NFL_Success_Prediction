{
 "cells": [
  {
   "cell_type": "markdown",
   "metadata": {},
   "source": [
    "# Cleaning and Preprocessing of NFL Play-by-Play Data"
   ]
  },
  {
   "cell_type": "markdown",
   "metadata": {},
   "source": [
    "This jupyter notebook walks through the cleaning and preprocessing of an NFL play-by-play data set that can be found here (https://www.kaggle.com/datasets/toddsteussie/nfl-play-statistics-dataset-2004-to-present).\n",
    "\n",
    "This data set contains various data points for every play completed in an NFL game from the years 2004-2019. The overall goal of this project is to use the data set to predict the success of calling a \"run\" or \"pass\" play at any given time in the game. There is a separate notebook where I implement various machine learning models to make this prediction. The purpose of this notebook is to walk through how I cleaned this data set for use by these machine learning models."
   ]
  },
  {
   "cell_type": "markdown",
   "metadata": {},
   "source": [
    "Below is a complete list of everything done in this notebook (in the same order that the cells are executed). There are also small annotations throughout this notebook mentioning what is being done at each step."
   ]
  },
  {
   "cell_type": "markdown",
   "metadata": {},
   "source": [
    "1. Define a \"success\" function that tells us whether each play was a success or not, based on post-play data (more details on this metric below). \n",
    "\n",
    "2. Read in the data and toss out any data points where \"no play\" is 1 in the data set. This indicates that there was a pre-snap penalty or something similar that happened and thus, no play was ever run.\n",
    "\n",
    "3. Take only rushing and passing plays since we are not interested in special teams plays\n",
    "\n",
    "4. One-hot encode the \"Huddle\" section of the data. There are a significant amount of Nans in this column of the data. For these plays, we set \"Huddle\" to 0.5 (halfway between \"huddle\" and \"no huddle\").\n",
    "\n",
    "5. Convert team ID numbers to team names for easier interpretation\n",
    "\n",
    "6. Replace \"gameID\" with \"HomeTeamID\" and \"VisitorTeamID\" so that the algorithm has access to who is the home team and who is the away team.\n",
    "\n",
    "7. Create a new column called \"HomeTeamPossession\" that tracks whether or not the home team has possession of the ball.\n",
    "\n",
    "8. One-hot encode \"HomeTeamID\", \"AwayTeamID\", and \"PlayType\".\n",
    "\n",
    "9. Create new column called \"Score_diff\" that tracks the difference in score between the team on offense and the team of defense\n",
    "\n",
    "10. Add a categorical column called \"success\" that tracks whether the play was a success or not. This is calculated according to the rules laid out below.\n",
    "\n",
    "11. Select only the pre-play information to give to the prediction algorithm. This ensures that our algorithm doesn't have access to data like \"yards gained\" because we want the algorithm to predict things based only on pre-play data.\n",
    "\n",
    "12. Convert GameClock variable to float data type\n",
    "\n",
    "13. Save the cleaned data set for use by the models"
   ]
  },
  {
   "cell_type": "markdown",
   "metadata": {},
   "source": [
    "### Rules for success"
   ]
  },
  {
   "cell_type": "markdown",
   "metadata": {},
   "source": [
    "Below are a description of the rules used by the add_success function to evaluate whether each play was a success or not. I chose these rules based on what I feel should be considered a successful football play. The rules are different depending on what down it is. In the data set, successes are represented by 1, failures by -1, and neutral plays by 0."
   ]
  },
  {
   "cell_type": "markdown",
   "metadata": {},
   "source": [
    "Any down:\n",
    "   - if you get a first down or score, that's a success\n",
    "\n",
    "First down: \n",
    "   - success = gaining (3/10) or greater of yards to the sticks\n",
    "   - neutral = between 1 yard and (3/10) of yards to the sticks\n",
    "   - fail = 0 yards or negative yards\n",
    "   \n",
    "Second down:\n",
    "   - success = gaining (1/2) or greater of yards to the sticks\n",
    "   - neutral = between 1 yard and (1/2) of yards to the sticks\n",
    "   - fail = 0 or negative yards\n",
    "   \n",
    "Third down:\n",
    "   - success = first down\n",
    "   - neutral = nothing\n",
    "   - fail = not first down\n",
    "   \n",
    "Fourth down:\n",
    "   - success = first down\n",
    "   - neutral = nothing\n",
    "   - fail = not first down"
   ]
  },
  {
   "cell_type": "code",
   "execution_count": 1,
   "metadata": {},
   "outputs": [
    {
     "name": "stdout",
     "output_type": "stream",
     "text": [
      "/Users/Michaelray/Documents/NFL_project/archive (3)\n"
     ]
    }
   ],
   "source": [
    "cd archive\\ (3)/"
   ]
  },
  {
   "cell_type": "code",
   "execution_count": 2,
   "metadata": {},
   "outputs": [],
   "source": [
    "import pandas as pd\n",
    "import numpy as np\n",
    "from sklearn import preprocessing"
   ]
  },
  {
   "cell_type": "code",
   "execution_count": 3,
   "metadata": {},
   "outputs": [],
   "source": [
    "#Define function to calculate success metric and add it as a column to a DataFrame\n",
    "def add_success(df):\n",
    "    '''Adds a success row to the DataFrame df,\n",
    "    which will be used as the target variable\n",
    "    in our models. The target variable is 1\n",
    "    for a success, 0 for neutral, and -1 for \n",
    "    failure (definitions above)\n",
    "    \n",
    "    Parameters\n",
    "    ----------\n",
    "    df - Give a DataFrame with all the data we\n",
    "        have above\n",
    "        \n",
    "    Returns\n",
    "    -------\n",
    "    new_df - a new DataFrame with a success target\n",
    "        variable added which can be accessed with\n",
    "        new_df['success']'''\n",
    "    \n",
    "    down = df['down']\n",
    "    distance = df['distance']\n",
    "    yds_gained = df['netYards']\n",
    "    \n",
    "    #Implement the rules set at top of document\n",
    "    success = pd.DataFrame(columns=['success'])\n",
    "    df = df.join(success)\n",
    "    \n",
    "    #Always a success if we got a first down\n",
    "    df.loc[df['firstDown'] == 1, 'success'] = 1\n",
    "    \n",
    "    #First down success metric\n",
    "    df.loc[(df['firstDown']!=1) & (down==1) & ((3/10)*distance<=yds_gained), 'success'] = 1\n",
    "    df.loc[(df['firstDown']!=1) & (down==1) & (0<yds_gained) & (yds_gained<(3/10)*distance), 'success'] = 0\n",
    "    df.loc[(df['firstDown']!=1) & (down==1) & (yds_gained<=0), 'success'] = -1\n",
    "    \n",
    "    #Second down success metrics\n",
    "    df.loc[(df['firstDown']!=1) & (down==2) & ((1/2)*distance<=yds_gained), 'success'] = 1\n",
    "    df.loc[(df['firstDown']!=1) & (down==2) & (0<yds_gained) & (yds_gained<=(1/2)*distance), 'success'] = 0\n",
    "    df.loc[(df['firstDown']!=1) & (down==2) & (yds_gained<=0), 'success'] = -1\n",
    "    \n",
    "    #Third and fourth down success metrics only need one line because we already \n",
    "    #caught some of these when we checked for first down\n",
    "    df.loc[(df['firstDown']!=1) & (down==3), 'success'] = -1\n",
    "    df.loc[(df['firstDown']!=1) & (down==4), 'success'] = -1\n",
    "    \n",
    "    return df"
   ]
  },
  {
   "cell_type": "code",
   "execution_count": 4,
   "metadata": {},
   "outputs": [],
   "source": [
    "df = pd.read_csv('plays.csv')\n",
    "games = pd.read_csv('games.csv')\n",
    "\n",
    "# all plays up to index 41,709 do not have a corresponding entry in games.csv so we can't find home/away teams.\n",
    "df = df.iloc[41709:,:]"
   ]
  },
  {
   "cell_type": "code",
   "execution_count": 5,
   "metadata": {},
   "outputs": [],
   "source": [
    "#Get rid of any column that has noplay set to 1.\n",
    "played_df = df[df.noPlay == 0]\n",
    "\n",
    "#Include only rushing and passing plays\n",
    "special_teams = ['kickoff', 'xp', 'spike', 'field goal']\n",
    "regular_plays = ['rush', 'pass']\n",
    "rp_data = played_df.loc[(played_df['playType'] == 'rush') | (played_df['playType'] == 'pass')]"
   ]
  },
  {
   "cell_type": "code",
   "execution_count": 6,
   "metadata": {},
   "outputs": [],
   "source": [
    "#Turn huddle into numerical variable\n",
    "\n",
    "huddle_df = pd.DataFrame(np.empty(rp_data.shape[0]), columns=['huddleNew'])\n",
    "rp_data = rp_data.join(huddle_df)\n",
    "\n",
    "rp_data.loc[rp_data['huddle'] == 'huddle', 'huddleNew'] = 0\n",
    "rp_data.loc[rp_data['huddle'] == 'no huddle', 'huddleNew'] = 1\n",
    "rp_data.loc[rp_data['huddle'].isna(), 'huddleNew'] = 0.5\n",
    "\n",
    "rp_data = rp_data.drop('huddle', axis=1)\n",
    "rp_data = rp_data.rename(columns={\"huddleNew\" : 'huddle'})"
   ]
  },
  {
   "cell_type": "code",
   "execution_count": 7,
   "metadata": {},
   "outputs": [],
   "source": [
    "#Turn TeamId's into team names\n",
    "team_dict = {'Cardinals':3800, 'Ravens':325 , 'Falcons':200 , 'Bills':610 , 'Panthers':750, \n",
    "             'Bengals':920, 'Bears':810, 'Browns':1050, 'Cowboys':1200, 'Broncos':1400, \n",
    "             'Lions':1540, 'Texans':2120, 'Packers':1800, 'Colts':2200, 'Rams':2510, \n",
    "             'Jaguars':2250, 'Vikings':3000, 'Chiefs':2310, 'Saints':3300, 'Raiders':2520, \n",
    "             'Giants':3410, 'Chargers':4400, 'Eagles':3700, 'Dolphins':2700, 'Niners':4500, \n",
    "             'Patriots':3200, 'Seahawks':4600, 'Jets':3430, 'Buccaneers':4900, 'Steelers':3900, \n",
    "             'Washington':5110, 'Titans':2100}\n",
    "hometeam_dict = {'Cardinals home':3800, 'Ravens home':325 , 'Falcons home':200 , 'Bills home':610 , 'Panthers home':750, \n",
    "             'Bengals home':920, 'Bears home':810, 'Browns home':1050, 'Cowboys home':1200, 'Broncos home':1400, \n",
    "             'Lions home':1540, 'Texans home':2120, 'Packers home':1800, 'Colts home':2200, 'Rams home':2510, \n",
    "             'Jaguars home':2250, 'Vikings home':3000, 'Chiefs home':2310, 'Saints home':3300, 'Raiders home':2520, \n",
    "             'Giants home':3410, 'Chargers home':4400, 'Eagles home':3700, 'Dolphins home':2700, 'Niners home':4500, \n",
    "             'Patriots home':3200, 'Seahawks home':4600, 'Jets home':3430, 'Buccaneers home':4900, 'Steelers home':3900, \n",
    "             'Washington home':5110, 'Titans home':2100}\n",
    "awayteam_dict = {'Cardinals away':3800, 'Ravens away':325 , 'Falcons away':200 , 'Bills away':610 , 'Panthers away':750, \n",
    "             'Bengals away':920, 'Bears away':810, 'Browns away':1050, 'Cowboys away':1200, 'Broncos away':1400, \n",
    "             'Lions away':1540, 'Texans away':2120, 'Packers away':1800, 'Colts away':2200, 'Rams away':2510, \n",
    "             'Jaguars away':2250, 'Vikings away':3000, 'Chiefs away':2310, 'Saints away':3300, 'Raiders away':2520, \n",
    "             'Giants away':3410, 'Chargers away':4400, 'Eagles away':3700, 'Dolphins away':2700, 'Niners away':4500, \n",
    "             'Patriots away':3200, 'Seahawks away':4600, 'Jets away':3430, 'Buccaneers away':4900, 'Steelers away':3900, \n",
    "             'Washington away':5110, 'Titans away':2100}\n",
    "\n",
    "\n",
    "team_dict = {v: k for k, v in team_dict.items()}\n",
    "hometeam_dict = {v: k for k, v in hometeam_dict.items()}\n",
    "awayteam_dict = {v: k for k, v in awayteam_dict.items()}"
   ]
  },
  {
   "cell_type": "code",
   "execution_count": 8,
   "metadata": {},
   "outputs": [],
   "source": [
    "#Go from gameId in rp_data to homeTeamId and awayTeamId\n",
    "game_info = games[['gameId', 'homeTeamId', 'visitorTeamId']]\n",
    "game_list = pd.DataFrame(rp_data['gameId'])\n",
    "homeTeamId = pd.DataFrame(columns=['homeTeamId'])\n",
    "awayTeamId = pd.DataFrame(columns=['awayTeamId'])\n",
    "rp_data = rp_data.join(homeTeamId)\n",
    "rp_data = rp_data.join(awayTeamId)\n",
    "\n",
    "for game_index in np.arange(game_info['gameId'].shape[0]):\n",
    "    game = game_info.loc[game_index, 'gameId']\n",
    "    \n",
    "    rp_data.loc[rp_data['gameId'] == game, 'homeTeamId'] = game_info.loc[game_index, 'homeTeamId']\n",
    "    rp_data.loc[rp_data['gameId'] == game, 'awayTeamId'] = game_info.loc[game_index, 'visitorTeamId']"
   ]
  },
  {
   "cell_type": "code",
   "execution_count": 9,
   "metadata": {},
   "outputs": [],
   "source": [
    "#Now create homeTeamPos column that contains 1 if home team has possession and 0 if not\n",
    "#We don't need an awayTeamPos column because this is redundant information\n",
    "\n",
    "homeTeamPos = pd.DataFrame(np.zeros(rp_data.shape[0]), index=rp_data.index, columns=['homeTeamPossession'])\n",
    "rp_data.join(homeTeamPos)\n",
    "\n",
    "rp_data.loc[rp_data['homeTeamId'] == rp_data['possessionTeamId'], 'homeTeamPossession'] = 1\n",
    "rp_data.loc[rp_data['awayTeamId'] == rp_data['possessionTeamId'], 'homeTeamPossession'] = 0"
   ]
  },
  {
   "cell_type": "code",
   "execution_count": 10,
   "metadata": {},
   "outputs": [],
   "source": [
    "#Now go from team Id numbers to team names for homeTeamId, awayTeamId\n",
    "rp_data['homeTeamId'] = rp_data['homeTeamId'].map(hometeam_dict)\n",
    "rp_data['awayTeamId'] = rp_data['awayTeamId'].map(awayteam_dict)"
   ]
  },
  {
   "cell_type": "code",
   "execution_count": 11,
   "metadata": {},
   "outputs": [],
   "source": [
    "#One-hot encode homeTeamId, awayTeamId, playType\n",
    "hometeamid_dum = pd.get_dummies(rp_data['homeTeamId'])\n",
    "awayteamid_dum = pd.get_dummies(rp_data['awayTeamId'])\n",
    "pt_dum = pd.get_dummies(rp_data['playType'])\n",
    "\n",
    "rp_data = pd.concat([rp_data, hometeamid_dum], axis=1).drop('homeTeamId', axis=1)\n",
    "rp_data = pd.concat([rp_data, awayteamid_dum], axis=1).drop('awayTeamId', axis=1)\n",
    "rp_data = pd.concat([rp_data, pt_dum], axis=1).drop('playType', axis=1)"
   ]
  },
  {
   "cell_type": "code",
   "execution_count": 12,
   "metadata": {},
   "outputs": [],
   "source": [
    "#Take the scores of home and visiting teams along with homeTeamPossession to get score difference\n",
    "#between possessing team and visiting team (convention is possessing score - nonpossessing score)\n",
    "\n",
    "score_diff = pd.DataFrame(np.empty(rp_data.shape[0]), columns=['scoreDiff'])\n",
    "rp_data = rp_data.join(score_diff)\n",
    "\n",
    "rp_data.loc[rp_data['homeTeamPossession'] == 1.0, 'scoreDiff'] = rp_data.loc[rp_data['homeTeamPossession'] == 1.0, 'homeScorePre'] - rp_data.loc[rp_data['homeTeamPossession'] == 1.0, 'visitingScorePre']\n",
    "rp_data.loc[rp_data['homeTeamPossession'] == 0.0, 'scoreDiff'] = rp_data.loc[rp_data['homeTeamPossession'] == 0.0, 'visitingScorePre'] - rp_data.loc[rp_data['homeTeamPossession'] == 0.0, 'homeScorePre']\n"
   ]
  },
  {
   "cell_type": "code",
   "execution_count": 13,
   "metadata": {},
   "outputs": [],
   "source": [
    "#Add success column\n",
    "rp_data = add_success(rp_data)"
   ]
  },
  {
   "cell_type": "code",
   "execution_count": 14,
   "metadata": {},
   "outputs": [],
   "source": [
    "#Over half of the data points for formations are null, so just drop it\n",
    "#Select only the pre-play information\n",
    "desired_cols = ['playId', 'gameId', 'playSequence', 'quarter', 'playNumberByTeam',\n",
    "                'gameClock', 'down', 'distance', 'distanceToGoalPre', 'evPre', \n",
    "              'homeScorePre', 'visitingScorePre', 'huddle', \n",
    "              \n",
    "              'Bears home', 'Bengals home', 'Bills home', \n",
    "              'Broncos home', 'Browns home', 'Buccaneers home', 'Cardinals home', 'Chargers home', \n",
    "              'Chiefs home', 'Colts home', 'Cowboys home', 'Dolphins home', 'Eagles home', \n",
    "              'Falcons home', 'Giants home', 'Jaguars home', 'Jets home', 'Lions home', \n",
    "              'Niners home', 'Packers home', 'Panthers home', 'Patriots home', 'Raiders home', \n",
    "              'Rams home', 'Ravens home', 'Saints home', 'Seahawks home', 'Steelers home', 'Texans home', \n",
    "              'Titans home', 'Vikings home', 'Washington home', 'Bears away', 'Bengals away', 'Bills away', \n",
    "              'Broncos away', 'Browns away', 'Buccaneers away', 'Cardinals away', 'Chargers away', \n",
    "              'Chiefs away', 'Colts away', 'Cowboys away', 'Dolphins away', 'Eagles away', 'Falcons away', \n",
    "              'Giants away', 'Jaguars away', 'Jets away', 'Lions away', 'Niners away', 'Packers away', \n",
    "              'Panthers away', 'Patriots away', 'Raiders away', 'Rams away', 'Ravens away', 'Saints away', \n",
    "              'Seahawks away', 'Steelers away', 'Texans away', 'Titans away', 'Vikings away', 'Washington away',\n",
    "              \n",
    "              \n",
    "                'homeTeamPossession', 'pass', 'rush', 'success']\n",
    "\n",
    "rp_data = rp_data[desired_cols]"
   ]
  },
  {
   "cell_type": "code",
   "execution_count": 15,
   "metadata": {},
   "outputs": [],
   "source": [
    "rp_data = rp_data[desired_cols]"
   ]
  },
  {
   "cell_type": "code",
   "execution_count": 16,
   "metadata": {},
   "outputs": [],
   "source": [
    "#Convert gameClock to number of seconds\n",
    "clock_series = rp_data['gameClock'].str.split(pat='(').str[1]\n",
    "clock_series = clock_series.str.split(pat=')').str[0]\n",
    "minutes = clock_series.str.split(pat=':').str[0].astype(int)\n",
    "seconds = clock_series.str.split(pat=':').str[1].astype(int)\n",
    "gameClockSec = pd.DataFrame({'gameClockSec':minutes*60+seconds})\n",
    "rp_data = rp_data.join(gameClockSec)\n",
    "rp_data = rp_data.drop(columns=['gameClock'])\n",
    "rp_data = rp_data.rename(columns={\"gameClockSec\" : 'gameClock'})"
   ]
  },
  {
   "cell_type": "code",
   "execution_count": 17,
   "metadata": {},
   "outputs": [
    {
     "data": {
      "text/plain": [
       "0"
      ]
     },
     "execution_count": 17,
     "metadata": {},
     "output_type": "execute_result"
    }
   ],
   "source": [
    "rp_data.isna().sum().sum()"
   ]
  },
  {
   "cell_type": "markdown",
   "metadata": {},
   "source": [
    "We've got all our desired data with no Nans, so let's save the data to a csv file"
   ]
  },
  {
   "cell_type": "code",
   "execution_count": 18,
   "metadata": {},
   "outputs": [],
   "source": [
    "#We've got effectively 18 separate data points now. We'll save the model data to a file\n",
    "rp_data.to_csv('model_data.csv')"
   ]
  }
 ],
 "metadata": {
  "kernelspec": {
   "display_name": "Python 3 (ipykernel)",
   "language": "python",
   "name": "python3"
  },
  "language_info": {
   "codemirror_mode": {
    "name": "ipython",
    "version": 3
   },
   "file_extension": ".py",
   "mimetype": "text/x-python",
   "name": "python",
   "nbconvert_exporter": "python",
   "pygments_lexer": "ipython3",
   "version": "3.7.12"
  }
 },
 "nbformat": 4,
 "nbformat_minor": 4
}
